{
  "cells": [
    {
      "cell_type": "markdown",
      "metadata": {
        "colab_type": "text",
        "id": "view-in-github"
      },
      "source": [
        "<a href=\"https://colab.research.google.com/github/MarcoAntonioConceicao/trabalho/blob/main/Exemplo_Mofologia.ipynb\" target=\"_parent\"><img src=\"https://colab.research.google.com/assets/colab-badge.svg\" alt=\"Open In Colab\"/></a>"
      ]
    },
    {
      "cell_type": "markdown",
      "metadata": {
        "id": "hs7F3RjrUjCH"
      },
      "source": [
        "Universidade do Vale do Itajaí<br>\n",
        "Escola do Mar, Ciência e Tecnologia<br>\n",
        "Professor Felipe Viel\n",
        "\n",
        "# Exemplo Morfologia\n",
        "\n",
        "### Tutoriais da OpenCV\n",
        "\n",
        "- https://docs.opencv.org/master/d9/df8/tutorial_root.html\n",
        "- https://www.geeksforgeeks.org/opencv-python-tutorial/"
      ]
    },
    {
      "cell_type": "code",
      "execution_count": null,
      "metadata": {
        "id": "9ieiSWN_Uh5b"
      },
      "outputs": [],
      "source": [
        "#from https://opencv-python-tutroals.readthedocs.io/en/latest/py_tutorials/py_imgproc/py_morphological_ops/py_morphological_ops.html\n",
        "import cv2\n",
        "import numpy as np\n",
        "#caso for usar o Google Colab com a OpenCV, usar a lib abaixo /// AQUI ESTÁ IMPORTANDO AS BIBLIOTECAS\n",
        "from google.colab.patches import cv2_imshow\n"
      ]
    },
    {
      "cell_type": "code",
      "execution_count": null,
      "metadata": {
        "id": "8whvZbKhU03S"
      },
      "outputs": [],
      "source": [
        "img = cv2.imread('j.png',0)\n",
        "img_opening = cv2.imread('j_ruido.png',0)\n",
        "img_closing = cv2.imread('j_furos.png',0)\n",
        "altura, largura = img.shape\n",
        "kernel = np.ones((5,5),np.uint8)\n",
        "print(kernel)"
      ]
    },
    {
      "cell_type": "code",
      "execution_count": null,
      "metadata": {
        "id": "RnKcRcjsU8VP"
      },
      "outputs": [],
      "source": [
        "erosion = cv2.erode(img,kernel,iterations = 2) #///AQUI OCORRE A EROSÃO DA IMAGEM OU SEJA FAZENDO AS ÁREAS BRANCAS DA IMAGEM FICAREM MAIS FINAS E AS PRETAS MAIOERS\n",
        "dilation = cv2.dilate(img,kernel,iterations = 2) #///AQUI OCORRE A DILATAÇÃO DA IMAGEM OU SEJA FAZENDO A ÁREA CLARA DA LETRA SE DILATAR EM TORNO DAS REGIÕES PRETAS DE FUNDO"
      ]
    },
    {
      "cell_type": "code",
      "execution_count": null,
      "metadata": {
        "id": "WvTtlQWJU-tz"
      },
      "outputs": [],
      "source": [
        "gradient = cv2.morphologyEx(img, cv2.MORPH_GRADIENT, kernel) #/// A GRADIENTE FARÁ UM CONTORNO NA IMAGEM\n",
        "opening = cv2.morphologyEx(img_opening, cv2.MORPH_OPEN, kernel) #/// A OPENING BASICAMENTE REMOVE RUÍDO DE IMAGEM\n",
        "closing = cv2.morphologyEx(img_closing, cv2.MORPH_CLOSE, kernel) #/// FECHAMENTO BASICAMENTE SERVE PARA FECHAR PEQUENOS PONTOS NA IMAGEM"
      ]
    },
    {
      "cell_type": "code",
      "execution_count": null,
      "metadata": {
        "id": "iMJ7o6EgVA_r"
      },
      "outputs": [],
      "source": [
        "'''\n",
        "#Caso usa com Python no próprio computador\n",
        "cv2.imshow('in', img)\n",
        "cv2.imshow('erosion_out', erosion)\n",
        "cv2.imshow('dilation_out', dilation)\n",
        "cv2.imshow('opening_out', opening)\n",
        "cv2.imshow('closing_out', closing)\n",
        "cv2.imshow('gradient_out', gradient)\n",
        "'''\n",
        "#Caso use o Google Colab\n",
        "cv2_imshow(img)\n",
        "cv2_imshow(erosion)\n",
        "cv2_imshow(dilation)\n",
        "cv2_imshow(opening)\n",
        "cv2_imshow(closing)\n",
        "cv2_imshow(gradient)"
      ]
    }
  ],
  "metadata": {
    "colab": {
      "include_colab_link": true,
      "provenance": []
    },
    "kernelspec": {
      "display_name": "Python 3",
      "name": "python3"
    },
    "language_info": {
      "name": "python"
    }
  },
  "nbformat": 4,
  "nbformat_minor": 0
}
